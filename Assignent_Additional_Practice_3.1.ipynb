{
 "cells": [
  {
   "cell_type": "markdown",
   "metadata": {},
   "source": [
    "1) Write a python program which creates a class named Cone and write a\n",
    "function calculate_area which calculates the area of the Cone"
   ]
  },
  {
   "cell_type": "code",
   "execution_count": 39,
   "metadata": {},
   "outputs": [
    {
     "name": "stdout",
     "output_type": "stream",
     "text": [
      "Please enter the radius of the cone:4\n",
      "Please enter the height of the cone:5\n",
      "Area of a cone with radius: 4 and height: 5 is:113.14\n"
     ]
    }
   ],
   "source": [
    "class cone():\n",
    "    def __init__(self, r, h):\n",
    "        self._r = r\n",
    "        self._h = h\n",
    "        \n",
    "    def calculate_area(self):\n",
    "        a= ((22/7) * self._r * self._h) + ((22/7)* self._r **2)\n",
    "        print(\"Area of a cone with radius: {} and height: {} is:{}\" .format (self._r,self._h,round(a,2))) \n",
    "        \n",
    "\n",
    "radius = int(input(\"Please enter the radius of the cone:\"))\n",
    "height= int(input(\"Please enter the height of the cone:\"))        \n",
    "area=cone(radius, height)\n",
    "area.calculate_area()"
   ]
  },
  {
   "cell_type": "markdown",
   "metadata": {},
   "source": [
    "2) Define a class MathOperation which implements pow(x,n) without using python's in-built pow() method"
   ]
  },
  {
   "cell_type": "code",
   "execution_count": 60,
   "metadata": {},
   "outputs": [
    {
     "name": "stdout",
     "output_type": "stream",
     "text": [
      "8\n",
      "0.008\n",
      "-32\n",
      "-0.008\n",
      "1\n"
     ]
    }
   ],
   "source": [
    "class MathOperation():\n",
    "    def pow(self, x, n): \n",
    "        if x==0 or x==1 or n==1:\n",
    "            return x  \n",
    "        if x==-1:\n",
    "            if n%2 ==0: \n",
    "                 return 1 \n",
    "            else: \n",
    "                 return -1 \n",
    "        if n==0: \n",
    "             return 1 \n",
    "        if n<0: \n",
    "             return 1/(self.pow(x,-n)) \n",
    "        \n",
    "        return x**n \n",
    " \n",
    "        \n",
    "\n",
    "M = MathOperation()\n",
    "print(M.pow(2, 3))  \n",
    "print(M.pow(5, -3))\n",
    "print(M.pow(-2, 5))\n",
    "print(M.pow(-5, -3))\n",
    "print(M.pow(20000,0))"
   ]
  },
  {
   "cell_type": "markdown",
   "metadata": {},
   "source": [
    "3) Write a python program that creates a class Base and Derived. Use inbuilt function issubclass and isinstance which gives boolean results.(True or False)"
   ]
  },
  {
   "cell_type": "code",
   "execution_count": 76,
   "metadata": {},
   "outputs": [
    {
     "name": "stdout",
     "output_type": "stream",
     "text": [
      "Derived is subclass of Base:  True\n",
      "Base is a subclass of Derived:  False\n",
      "d is instance of Derived:  True\n",
      "b is an instance of Derived:  False\n",
      "d is an instance of Base :  True\n",
      "b is an instance of Base:  True\n"
     ]
    }
   ],
   "source": [
    "class Base():\n",
    "    pass   # Empty Class \n",
    "  \n",
    "class Derived(Base): \n",
    "    pass   # Empty Class \n",
    "  \n",
    "#Derived is subclass of Base\n",
    "print(\"Derived is subclass of Base: \",issubclass(Derived, Base)) \n",
    "#Base is not a subclass of Derived\n",
    "print(\"Base is a subclass of Derived: \",issubclass(Base, Derived)) \n",
    "  \n",
    "d = Derived() \n",
    "b = Base() \n",
    "\n",
    "#d is instance of Derived\n",
    "print(\"d is instance of Derived: \",isinstance(d, Derived)) \n",
    "  \n",
    "# b is not an instance of Derived \n",
    "print(\"b is an instance of Derived: \",isinstance(b, Derived)) \n",
    "  \n",
    "# But d is an instance of Base \n",
    "print(\"d is an instance of Base : \",isinstance(d, Base)) \n",
    "#b is an instance of Base\n",
    "print(\"b is an instance of Base: \",isinstance(b, Base)) "
   ]
  },
  {
   "cell_type": "markdown",
   "metadata": {},
   "source": [
    "4) Write a python program that creates base class Person which has two methods\n",
    "def __init__(self, first, last)\n",
    "def __str__(self)\n",
    "Also create a derived class named Employee which uses the base class method “def __str__(self)” using “super()” to concatenate first name with last name"
   ]
  },
  {
   "cell_type": "code",
   "execution_count": 85,
   "metadata": {},
   "outputs": [
    {
     "name": "stdout",
     "output_type": "stream",
     "text": [
      "Nitin1 Ranjan1\n",
      "Nitin2 Ranjan2\n"
     ]
    }
   ],
   "source": [
    "class person():\n",
    "    def __init__(self, first, last):\n",
    "        self.first = first\n",
    "        self.last = last\n",
    "    def __str__(self):\n",
    "        return self.first + ' '+ self.last\n",
    "        \n",
    "class Employee(person):\n",
    "    def __init__(self, first, last):\n",
    "        super().__init__(first, last)\n",
    "        \n",
    "name1 = person('Nitin1', 'Ranjan1')\n",
    "name2 = Employee('Nitin2', 'Ranjan2')\n",
    "print(name1)\n",
    "print(name2)"
   ]
  },
  {
   "cell_type": "code",
   "execution_count": 78,
   "metadata": {},
   "outputs": [],
   "source": []
  },
  {
   "cell_type": "code",
   "execution_count": null,
   "metadata": {},
   "outputs": [],
   "source": []
  }
 ],
 "metadata": {
  "kernelspec": {
   "display_name": "Python 3",
   "language": "python",
   "name": "python3"
  },
  "language_info": {
   "codemirror_mode": {
    "name": "ipython",
    "version": 3
   },
   "file_extension": ".py",
   "mimetype": "text/x-python",
   "name": "python",
   "nbconvert_exporter": "python",
   "pygments_lexer": "ipython3",
   "version": "3.7.0"
  }
 },
 "nbformat": 4,
 "nbformat_minor": 2
}
